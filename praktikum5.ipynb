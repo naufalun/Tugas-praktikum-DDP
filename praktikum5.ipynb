{
  "nbformat": 4,
  "nbformat_minor": 0,
  "metadata": {
    "colab": {
      "provenance": [],
      "authorship_tag": "ABX9TyMMXkGyzY/GD/gmGBwupZ/4",
      "include_colab_link": true
    },
    "kernelspec": {
      "name": "python3",
      "display_name": "Python 3"
    },
    "language_info": {
      "name": "python"
    }
  },
  "cells": [
    {
      "cell_type": "markdown",
      "metadata": {
        "id": "view-in-github",
        "colab_type": "text"
      },
      "source": [
        "<a href=\"https://colab.research.google.com/github/naufalun/Tugas-praktikum-DDP/blob/main/praktikum5.ipynb\" target=\"_parent\"><img src=\"https://colab.research.google.com/assets/colab-badge.svg\" alt=\"Open In Colab\"/></a>"
      ]
    },
    {
      "cell_type": "code",
      "execution_count": 19,
      "metadata": {
        "colab": {
          "base_uri": "https://localhost:8080/"
        },
        "id": "7zEMsdaPz-vc",
        "outputId": "5aac53c0-0fea-42e0-d101-8532405e0dae"
      },
      "outputs": [
        {
          "output_type": "stream",
          "name": "stdout",
          "text": [
            "['si putih', 'motor', 125, 'putih', 2]\n",
            "['si putih', 'motor', 125, 'putih', 2, 5000, 'matic']\n",
            "['si putih', 'motor', 'honda', 125, 'putih', 2, 5000, 'matic']\n"
          ]
        }
      ],
      "source": [
        "# tugas ke 1\n",
        "# belajar liat dalam python\n",
        "# uppend untuk menambahkan elemen di belakang list\n",
        "# insert untuk menyisipkan elemen berdasarkan urutan/indeks\n",
        "\n",
        "namakendaraan = \"si putih\"\n",
        "jeniskendaraan = \"motor\"\n",
        "cckendaraan = 125\n",
        "warnakendaraan = \"putih\"\n",
        "rodakendaraan = 2\n",
        "\n",
        "data_kendaraan = [\n",
        "    namakendaraan, jeniskendaraan, cckendaraan,\n",
        "    warnakendaraan, rodakendaraan\n",
        "]\n",
        "\n",
        "print(data_kendaraan)\n",
        "\n",
        "hargakendaraan = 5000\n",
        "tipekendaraan = \"matic\"\n",
        "\n",
        "data_kendaraan.append(hargakendaraan)\n",
        "data_kendaraan.append(tipekendaraan)\n",
        "\n",
        "print(data_kendaraan)\n",
        "\n",
        "merekkendaraan = \"honda\"\n",
        "data_kendaraan.insert(2, merekkendaraan)\n",
        "\n",
        "print(data_kendaraan)"
      ]
    },
    {
      "cell_type": "code",
      "source": [
        "pilihan = input(\"\"\"\n",
        "Silahkan pilih menu yang diinginkan\n",
        "==================================\n",
        "1. Luas persegi\n",
        "2. Luas lingkaran\n",
        "3. Luas segitiga\n",
        "==================================\n",
        "Kirimkan hanya angka saja, jawaban =\n",
        "\"\"\")\n",
        "\n",
        "match pilihan:\n",
        "   case \"1\":\n",
        "     #luas persegi\n",
        "     sisi = int(input(\"sisi = \"))\n",
        "     luas = sisi * sisi\n",
        "\n",
        "     print(f\"luas persegi dengan sisi {sisi} adalah {luas}\")\n",
        "\n",
        "\n",
        "\n",
        "   case \"2\":\n",
        "     #luas lingkaran\n",
        "\n",
        "     jarijari = int(input(\"jari-jari= \"))\n",
        "     luas = 3.14 * jarijari**2\n",
        "\n",
        "     print(f\"luas lingkaran dengan jari jari {jarijari} adalah {luas}\")\n",
        "\n",
        "\n",
        "   case \"3\":\n",
        "     #luas segitiga\n",
        "     alas = float(input(\"Masukkan alas segitiga: \"))\n",
        "     tinggi = float(input(\"masukkan tinggi segitiga: \"))\n",
        "     luas = (alas * tinggi)/2\n",
        "\n",
        "     print(\"Luas segitiga adalah:\", luas)\n",
        "\n",
        "   case _:\n",
        "     print(\"ga paham\")"
      ],
      "metadata": {
        "colab": {
          "base_uri": "https://localhost:8080/"
        },
        "id": "eRz8HG5c9Evp",
        "outputId": "1ee82503-2615-489b-9b94-fe5d706e5136"
      },
      "execution_count": 44,
      "outputs": [
        {
          "output_type": "stream",
          "name": "stdout",
          "text": [
            "\n",
            "Silahkan pilih menu yang diinginkan\n",
            "==================================\n",
            "1. Luas persegi\n",
            "2. Luas lingkaran\n",
            "3. Luas segitiga\n",
            "==================================\n",
            "Kirimkan hanya angka saja, jawaban =\n",
            "3\n",
            "Masukkan alas segitiga: 12\n",
            "masukkan tinggi segitiga: 25\n",
            "Luas segitiga adalah: 150.0\n"
          ]
        }
      ]
    }
  ]
}